{
  "nbformat": 4,
  "nbformat_minor": 0,
  "metadata": {
    "colab": {
      "provenance": [],
      "collapsed_sections": [
        "ARYsPRmMfLF5",
        "26UivKC-tlfa",
        "9nCF2fS3dpGh"
      ]
    },
    "kernelspec": {
      "name": "python3",
      "display_name": "Python 3"
    },
    "language_info": {
      "name": "python"
    }
  },
  "cells": [
    {
      "cell_type": "markdown",
      "source": [
        "## Algorithm Selection & Justification\n",
        "\n",
        "### 1. Random Forest Regressor\n",
        "- Suitable for real estate price prediction due to its ability to handle both numerical and categorical data.\n",
        "- Reduces overfitting by averaging multiple decision trees.\n",
        "- Efficient and requires minimal feature scaling.\n",
        "\n",
        "### 2. Support Vector Machine (SVM) Regressor\n",
        "- Useful for capturing non-linear relationships between features.\n",
        "- Works well with smaller structured datasets.\n",
        "- Requires feature scaling but can model complex interactions better than simpler models.\n",
        "\n",
        "### Comparison:\n",
        "| Feature | Random Forest | SVM |\n",
        "|---------|--------------|-----|\n",
        "| Handles categorical data | ✅ Yes | ❌ No |\n",
        "| Handles missing values | ✅ Yes | ❌ No |\n",
        "| Overfitting resistance | ✅ Yes | ✅ Yes |\n",
        "| Computational efficiency | ⚡ Fast | 🐌 Slower |\n",
        "| Non-linear modeling | ⚡ Good | ✅ Excellent |\n",
        "\n",
        "These algorithms will be tested, and their performance compared to determine the best model for predicting rental prices.\n"
      ],
      "metadata": {
        "id": "LVjKRjdoK0Tr"
      }
    },
    {
      "cell_type": "code",
      "source": [
        "from google.colab import drive\n",
        "drive.mount('/content/drive')"
      ],
      "metadata": {
        "id": "ZWrFwi9u_NEb"
      },
      "execution_count": null,
      "outputs": []
    },
    {
      "cell_type": "markdown",
      "source": [
        "# Prep the data"
      ],
      "metadata": {
        "id": "ARYsPRmMfLF5"
      }
    },
    {
      "cell_type": "code",
      "source": [
        "!pip install scikit-learn xgboost"
      ],
      "metadata": {
        "colab": {
          "base_uri": "https://localhost:8080/"
        },
        "id": "XeRbGptPsNm4",
        "outputId": "167f2063-fad0-423c-ae65-6594494ca6b1"
      },
      "execution_count": null,
      "outputs": [
        {
          "output_type": "stream",
          "name": "stdout",
          "text": [
            "Requirement already satisfied: scikit-learn in /usr/local/lib/python3.11/dist-packages (1.6.1)\n",
            "Requirement already satisfied: xgboost in /usr/local/lib/python3.11/dist-packages (2.1.4)\n",
            "Requirement already satisfied: numpy>=1.19.5 in /usr/local/lib/python3.11/dist-packages (from scikit-learn) (1.26.4)\n",
            "Requirement already satisfied: scipy>=1.6.0 in /usr/local/lib/python3.11/dist-packages (from scikit-learn) (1.13.1)\n",
            "Requirement already satisfied: joblib>=1.2.0 in /usr/local/lib/python3.11/dist-packages (from scikit-learn) (1.4.2)\n",
            "Requirement already satisfied: threadpoolctl>=3.1.0 in /usr/local/lib/python3.11/dist-packages (from scikit-learn) (3.5.0)\n",
            "Requirement already satisfied: nvidia-nccl-cu12 in /usr/local/lib/python3.11/dist-packages (from xgboost) (2.21.5)\n"
          ]
        }
      ]
    },
    {
      "cell_type": "markdown",
      "source": [
        "## import necessary libraries and load data"
      ],
      "metadata": {
        "id": "8fanuGbrtN_0"
      }
    },
    {
      "cell_type": "code",
      "source": [
        "import pandas as pd\n",
        "import numpy as np\n",
        "import matplotlib.pyplot as plt\n",
        "import seaborn as sns\n",
        "from sklearn.model_selection import train_test_split\n",
        "from sklearn.preprocessing import StandardScaler, LabelEncoder\n",
        "from sklearn.ensemble import RandomForestRegressor\n",
        "from xgboost import XGBRegressor\n",
        "from sklearn.metrics import mean_absolute_error, mean_squared_error, r2_score\n",
        "from sklearn.svm import SVR\n",
        "import tensorflow as tf\n",
        "from tensorflow.keras.models import Sequential\n",
        "from tensorflow.keras.layers import Dense\n",
        "# Load dataset\n",
        "df = pd.read_csv(\"https://github.com/157nouraalhumaid/SW485-Project-Group4/raw/refs/heads/main/Dataset/real_estate_rental_prices.csv\")  # Adjust path if needed"
      ],
      "metadata": {
        "id": "3lt2olC6O3i-"
      },
      "execution_count": null,
      "outputs": []
    },
    {
      "cell_type": "markdown",
      "source": [
        "## preprocess data"
      ],
      "metadata": {
        "id": "bb0cNZpvtYVZ"
      }
    },
    {
      "cell_type": "code",
      "source": [
        "# Drop unnecessary columns\n",
        "df = df.drop(columns=[\"Unnamed: 0\", \"الرقم\"], errors=\"ignore\")\n",
        "\n",
        "# Convert 'سعر الليلة' (Price per Night) to numeric\n",
        "df[\"سعر الليلة\"] = df[\"سعر الليلة\"].str.replace(r\"[^\\d]\", \"\", regex=True).astype(float)\n",
        "\n",
        "# Handle missing values\n",
        "df = df.dropna()\n",
        "\n",
        "# Remove outliers using Interquartile Range (IQR)\n",
        "Q1 = df[\"سعر الليلة\"].quantile(0.25)\n",
        "Q3 = df[\"سعر الليلة\"].quantile(0.75)\n",
        "IQR = Q3 - Q1\n",
        "\n",
        "lower_bound = Q1 - 1.5 * IQR\n",
        "upper_bound = Q3 + 1.5 * IQR\n",
        "\n",
        "df = df[(df[\"سعر الليلة\"] >= lower_bound) & (df[\"سعر الليلة\"] <= upper_bound)]\n",
        "\n",
        "# Log transformation of price\n",
        "df[\"log_سعر الليلة\"] = np.log1p(df[\"سعر الليلة\"])\n",
        "\n",
        "#Calculate price per square meter correctly\n",
        "df[\"سعر للمتر\"] = df[\"سعر الليلة\"] / df[\"المساحة\"]\n",
        "df[\"سعر للمتر\"] = df[\"سعر للمتر\"].replace([np.inf, -np.inf], np.nan)  # Remove invalid values\n",
        "df = df.dropna(subset=[\"سعر للمتر\"])  # Drop rows where \"سعر للمتر\" is NaN\n",
        "\n",
        "# Display the cleaned dataset\n",
        "print(\"\\n📌 Cleaned Dataset Sample:\")\n",
        "print(df.head())"
      ],
      "metadata": {
        "id": "MAKWvSYnUO51",
        "colab": {
          "base_uri": "https://localhost:8080/"
        },
        "outputId": "9be7f5a6-e94d-4b2f-cdaa-a9363f6f7841"
      },
      "execution_count": null,
      "outputs": [
        {
          "output_type": "stream",
          "name": "stdout",
          "text": [
            "\n",
            "📌 Cleaned Dataset Sample:\n",
            "   التقييم  عدد المقيمين  المساحة                        اسم العقار  \\\n",
            "0     10.0             7       40          استديو بسرير ماستر وجلسة   \n",
            "1      9.2             6     3000  استديو بسريرين فردية وبأثاث بسيط   \n",
            "2     10.0            43     1000       شقة بغرفة معيشة وغرفتين نوم   \n",
            "3      9.4             4      400    استراحة بصالة جلوس وغرفتين نوم   \n",
            "4      9.6            29     3000          شقة بغرفة جلوس وغرفة نوم   \n",
            "\n",
            "            الحي  سعر الليلة المدينة  التصنيف  log_سعر الليلة  سعر للمتر  \n",
            "0    حي العزيزية       250.0   العلا   استديو        5.525453   6.250000  \n",
            "1         العذيب       280.0   العلا   استديو        5.638355   0.093333  \n",
            "2    حي العزيزية       400.0   العلا      شقة        5.993961   0.400000  \n",
            "3     حي المعتدل       799.0   العلا  استراحة        6.684612   1.997500  \n",
            "4  جنوب المستشفى       550.0   العلا      شقة        6.311735   0.183333  \n"
          ]
        }
      ]
    },
    {
      "cell_type": "markdown",
      "source": [
        "## Encode Categorical Variables"
      ],
      "metadata": {
        "id": "22mLpJYTtb20"
      }
    },
    {
      "cell_type": "code",
      "source": [
        "categorical_cols = [\"اسم العقار\", \"الحي\", \"المدينة\", \"التصنيف\"]\n",
        "label_encoders = {}\n",
        "\n",
        "for col in categorical_cols:\n",
        "    le = LabelEncoder()\n",
        "    df[col] = le.fit_transform(df[col])\n",
        "    label_encoders[col] = le  # Store encoder for later use\n",
        "\n",
        "# Display transformed dataset\n",
        "print(\"\\n📌 Encoded Dataset Sample:\")\n",
        "print(df.head())\n"
      ],
      "metadata": {
        "id": "OH0EjO9pUS28",
        "colab": {
          "base_uri": "https://localhost:8080/"
        },
        "outputId": "a4db926e-e794-4dbf-b95c-a39eee150b8c"
      },
      "execution_count": null,
      "outputs": [
        {
          "output_type": "stream",
          "name": "stdout",
          "text": [
            "\n",
            "📌 Encoded Dataset Sample:\n",
            "   التقييم  عدد المقيمين  المساحة  اسم العقار  الحي  سعر الليلة  المدينة  \\\n",
            "0     10.0             7       40         189   567       250.0       10   \n",
            "1      9.2             6     3000         224   277       280.0       10   \n",
            "2     10.0            43     1000        2357   567       400.0       10   \n",
            "3      9.4             4      400         497   657       799.0       10   \n",
            "4      9.6            29     3000        2344   326       550.0       10   \n",
            "\n",
            "   التصنيف  log_سعر الليلة  سعر للمتر  \n",
            "0        0        5.525453   6.250000  \n",
            "1        0        5.638355   0.093333  \n",
            "2        4        5.993961   0.400000  \n",
            "3        1        6.684612   1.997500  \n",
            "4        4        6.311735   0.183333  \n"
          ]
        }
      ]
    },
    {
      "cell_type": "markdown",
      "source": [
        "## define features and normalize data"
      ],
      "metadata": {
        "id": "h5XCEWSjtfOY"
      }
    },
    {
      "cell_type": "code",
      "source": [
        "# Define features (X) and target variable (y)\n",
        "X = df.drop(columns=[\"سعر الليلة\"])  # Using log-transformed price\n",
        "y = df[\"log_سعر الليلة\"]\n",
        "\n",
        "# Normalize numerical features\n",
        "scaler = StandardScaler()\n",
        "X_scaled = scaler.fit_transform(X)\n",
        "\n",
        "# Train-test split (80% training, 20% testing)\n",
        "X_train, X_test, y_train, y_test = train_test_split(X_scaled, y, test_size=0.2, random_state=42)\n",
        "\n",
        "# Display shape of datasets\n",
        "print(\"Training Set:\", X_train.shape, y_train.shape)\n",
        "print(\"Testing Set:\", X_test.shape, y_test.shape)\n"
      ],
      "metadata": {
        "id": "xpHSYRRvUb3U",
        "colab": {
          "base_uri": "https://localhost:8080/"
        },
        "outputId": "0ebc5f0d-6d17-43fe-8959-5ea0a88cff19"
      },
      "execution_count": null,
      "outputs": [
        {
          "output_type": "stream",
          "name": "stdout",
          "text": [
            "Training Set: (12552, 9) (12552,)\n",
            "Testing Set: (3139, 9) (3139,)\n"
          ]
        }
      ]
    },
    {
      "cell_type": "markdown",
      "source": [
        "#Random Forest"
      ],
      "metadata": {
        "id": "26UivKC-tlfa"
      }
    },
    {
      "cell_type": "code",
      "source": [
        "# Train Random Forest model\n",
        "rf_model = RandomForestRegressor(n_estimators=100, random_state=42)\n",
        "rf_model.fit(X_train, y_train)\n",
        "\n",
        "# Predict on test set\n",
        "y_pred_rf = rf_model.predict(X_test)\n",
        "\n",
        "# Evaluate Random Forest model\n",
        "mae_rf = mean_absolute_error(y_test, y_pred_rf)\n",
        "rmse_rf = np.sqrt(mean_squared_error(y_test, y_pred_rf))\n",
        "r2_rf = r2_score(y_test, y_pred_rf)\n",
        "\n",
        "# Display results\n",
        "print(\"\\n📌 Random Forest Model Performance:\")\n",
        "print(f\"Mean Absolute Error (MAE): {mae_rf}\")\n",
        "print(f\"Root Mean Squared Error (RMSE): {rmse_rf}\")\n",
        "print(f\"R² Score: {r2_rf}\")"
      ],
      "metadata": {
        "id": "LyDMBhj0Ud8D",
        "colab": {
          "base_uri": "https://localhost:8080/"
        },
        "outputId": "44d1193f-714e-4f27-cfaa-ab243fb8dd9e"
      },
      "execution_count": null,
      "outputs": [
        {
          "output_type": "stream",
          "name": "stdout",
          "text": [
            "\n",
            "📌 Random Forest Model Performance:\n",
            "Mean Absolute Error (MAE): 0.0001303402649249048\n",
            "Root Mean Squared Error (RMSE): 0.0011706240470063319\n",
            "R² Score: 0.9999962112301307\n"
          ]
        }
      ]
    },
    {
      "cell_type": "markdown",
      "source": [],
      "metadata": {
        "id": "Ph2k8EWffuZz"
      }
    },
    {
      "cell_type": "markdown",
      "source": [
        "# SVM"
      ],
      "metadata": {
        "id": "9nCF2fS3dpGh"
      }
    },
    {
      "cell_type": "code",
      "source": [
        "# Display dataset info\n",
        "print(\"📌 Dataset Info:\")\n",
        "df.info()\n"
      ],
      "metadata": {
        "id": "lHAdLMICWd6t",
        "colab": {
          "base_uri": "https://localhost:8080/"
        },
        "outputId": "1a3c9e95-5f20-4f50-d47e-69c941228847"
      },
      "execution_count": null,
      "outputs": [
        {
          "output_type": "stream",
          "name": "stdout",
          "text": [
            "📌 Dataset Info:\n",
            "<class 'pandas.core.frame.DataFrame'>\n",
            "Index: 15691 entries, 0 to 16912\n",
            "Data columns (total 10 columns):\n",
            " #   Column          Non-Null Count  Dtype  \n",
            "---  ------          --------------  -----  \n",
            " 0   التقييم         15691 non-null  float64\n",
            " 1   عدد المقيمين    15691 non-null  int64  \n",
            " 2   المساحة         15691 non-null  int64  \n",
            " 3   اسم العقار      15691 non-null  int64  \n",
            " 4   الحي            15691 non-null  int64  \n",
            " 5   سعر الليلة      15691 non-null  float64\n",
            " 6   المدينة         15691 non-null  int64  \n",
            " 7   التصنيف         15691 non-null  int64  \n",
            " 8   log_سعر الليلة  15691 non-null  float64\n",
            " 9   سعر للمتر       15691 non-null  float64\n",
            "dtypes: float64(4), int64(6)\n",
            "memory usage: 1.3 MB\n"
          ]
        }
      ]
    },
    {
      "cell_type": "code",
      "source": [
        "# Train SVM model\n",
        "svm_model = SVR(kernel='rbf', C=100, gamma=0.1, epsilon=0.1)\n",
        "svm_model.fit(X_train, y_train)\n",
        "\n",
        "# Predict on test set\n",
        "y_pred_svm = svm_model.predict(X_test)\n",
        "\n",
        "# Evaluate SVM model\n",
        "mae_svm = mean_absolute_error(y_test, y_pred_svm)\n",
        "mse_svm = mean_squared_error(y_test, y_pred_svm)\n",
        "rmse_svm = np.sqrt(mse_svm)\n",
        "r2_svm = r2_score(y_test, y_pred_svm)\n",
        "\n",
        "# Display results\n",
        "print(\"\\n📌 SVM Model Performance:\")\n",
        "print(f\"MAE: {mae_svm}\")\n",
        "print(f\"RMSE: {rmse_svm}\")\n",
        "print(f\"R² Score: {r2_svm}\")\n"
      ],
      "metadata": {
        "colab": {
          "base_uri": "https://localhost:8080/"
        },
        "id": "IsilMuDLnA7F",
        "outputId": "dc8b33da-abfe-47d3-d8c4-ca103987ef25"
      },
      "execution_count": null,
      "outputs": [
        {
          "output_type": "stream",
          "name": "stdout",
          "text": [
            "\n",
            "📌 SVM Model Performance:\n",
            "MAE: 0.04162460187130798\n",
            "RMSE: 0.0535536697411771\n",
            "R² Score: 0.9920705727920054\n"
          ]
        }
      ]
    },
    {
      "cell_type": "markdown",
      "source": [
        "# Performance Comparison & Results Interpretation"
      ],
      "metadata": {
        "id": "Yi7BR-vWomfA"
      }
    },
    {
      "cell_type": "markdown",
      "source": [
        "Since we're working on a regression problem (predicting rental prices), traditional classification metrics like accuracy, precision, recall, and F1-score are not applicable. Instead, we will compare using appropriate regression metrics\n",
        "\n",
        "* Mean Absolute Error (MAE) → Lower is better.\n",
        "* Root Mean Squared Error (RMSE) → Lower is better.\n",
        "* R² Score (Coefficient of Determination) → Higher is better.\n",
        "\n"
      ],
      "metadata": {
        "id": "87iWBhsG1OOX"
      }
    },
    {
      "cell_type": "markdown",
      "source": [
        "### Comparison\n",
        "| Metric | Random Forest | SVM |\n",
        "|---------|--------------|-----|\n",
        "|MAE\t|0.00013\t|0.0416|\n",
        "|RMSE\t|0.00117\t|0.0535|\n",
        "|R² Score|\t0.999996\t|0.9921|\n"
      ],
      "metadata": {
        "id": "YpLbZs-op_8D"
      }
    },
    {
      "cell_type": "markdown",
      "source": [
        "## Results Interpretation\n",
        "### 1. Random Forest Model\n",
        "\n",
        "   - MAE (0.00013):\n",
        "\n",
        "      The MAE is extremely low, indicating that the average absolute difference between the predicted and actual values is almost negligible.\n",
        "\n",
        "- RMSE (0.00117):\n",
        "\n",
        "     The RMSE is also very low, suggesting that the model's predictions are very close to the actual values.\n",
        "\n",
        "- R² Score (0.999996):\n",
        "\n",
        "     The R² score is almost 1, indicating that the model explains nearly all the variance in the target variable. This is an excellent result.\n",
        "\n",
        "\n",
        "###2. SVM Model\n",
        "\n",
        "- MAE (0.0416):\n",
        "\n",
        "  The MAE is very low, indicating that the average absolute difference between the predicted and actual values is minimal.\n",
        "\n",
        "- RMSE (0.0535):\n",
        "\n",
        "  The RMSE is also low, suggesting that the model's predictions are close to the actual values.\n",
        "\n",
        "- R² Score (0.9921):\n",
        "\n",
        "  The R² score is very close to 1, indicating that the model explains almost all the variance in the target variable.\n",
        "\n",
        "![](https://drive.google.com/uc?export=view&id=19oSX5vpPJ6ygVe4-_aXac92C5bGKVWtk)\n",
        "##Conclusion:\n",
        "\n",
        "The SVM model is performing exceptionally well, with metrics very close to those of the Random Forest model, yet Random Forest remains the best-performing model, with the SVM model being a strong contender."
      ],
      "metadata": {
        "id": "3LeCEuu8q3Ms"
      }
    }
  ]
}